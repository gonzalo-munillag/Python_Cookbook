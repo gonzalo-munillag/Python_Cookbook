{
 "cells": [
  {
   "cell_type": "markdown",
   "metadata": {},
   "source": [
    "# Chapter 2: Strings and text"
   ]
  },
  {
   "cell_type": "markdown",
   "metadata": {},
   "source": [
    "## 2.1. Splitting strings on any of multiple delimeters: re.split()"
   ]
  },
  {
   "cell_type": "markdown",
   "metadata": {},
   "source": [
    "You want to split the stirng based on delimiters and spacing but they are not consistent."
   ]
  },
  {
   "cell_type": "code",
   "execution_count": 47,
   "metadata": {},
   "outputs": [
    {
     "name": "stdout",
     "output_type": "stream",
     "text": [
      "['dwfwrg', 'fcwoirjfw;', 'fwigjfw,', 'wfwg,gfwgw,', 'www']\n",
      "['dwfwrg', 'fcwoirjfw', 'fwigjfw', 'wfwg', 'gfwgw', 'www']\n"
     ]
    },
    {
     "data": {
      "text/plain": [
       "['dwfwrg fcwoirjfw', ';', 'fwigjfw', ',', 'wfwg', ',', 'gfwgw', ',', 'www']"
      ]
     },
     "execution_count": 47,
     "metadata": {},
     "output_type": "execute_result"
    }
   ],
   "source": [
    "line = 'dwfwrg fcwoirjfw; fwigjfw, wfwg,gfwgw,     www'\n",
    "\n",
    "# not good:\n",
    "print(line.split())\n",
    "\n",
    "import re\n",
    "# \\s* is for al the spaces between the delimiter and the next char\n",
    "print(re.split(r'[;,\\s]\\s*', line))\n",
    "\n",
    "# Using a capture group (paranthesys instead of square brackets)\n",
    "# then it prints out also the matched text\n",
    "re.split(r'(;|,|\\s])\\s*', line)"
   ]
  },
  {
   "cell_type": "code",
   "execution_count": 48,
   "metadata": {},
   "outputs": [
    {
     "name": "stdout",
     "output_type": "stream",
     "text": [
      "['dwfwrg', 'fcwoirjfw', 'fwigjfw', 'wfwg', 'gfwgw', 'www']\n",
      "[' ', ';', ',', ',', ',', '']\n",
      "dwfwrg fcwoirjfw;fwigjfw,wfwg,gfwgw,www\n"
     ]
    },
    {
     "data": {
      "text/plain": [
       "['dwfwrg', 'fcwoirjfw', 'fwigjfw', 'wfwg', 'gfwgw', 'www']"
      ]
     },
     "execution_count": 48,
     "metadata": {},
     "output_type": "execute_result"
    }
   ],
   "source": [
    "fields = re.split(r'(;|,|\\s)\\s*', line)\n",
    "# starts at element 0 and skips one element and picks the subsequent, and so on\n",
    "values = fields[::2]\n",
    "# starts at element position in 1 and skips the subsequent element\n",
    "delimeters = fields[1::2] + ['']\n",
    "print(values)\n",
    "print(delimeters)\n",
    "\n",
    "# you can reform the line\n",
    "print(''.join(v+d for v, d in zip(values, delimeters)))\n",
    "\n",
    "# if you need to use a capture group but you do not want\n",
    "# to save the delimiters, theN´n use ?::\n",
    "re.split(r'(?:;|,|\\s)\\s*', line)"
   ]
  },
  {
   "cell_type": "markdown",
   "metadata": {},
   "source": [
    "## 2.2. Matching text at the start or end of a string: .endswith() .atartswith()"
   ]
  },
  {
   "cell_type": "markdown",
   "metadata": {},
   "source": [
    "You need to check the start or the end of a string for text patterns."
   ]
  },
  {
   "cell_type": "code",
   "execution_count": 57,
   "metadata": {},
   "outputs": [
    {
     "name": "stdout",
     "output_type": "stream",
     "text": [
      "True\n",
      "False\n",
      "True\n",
      "['Chapter_2.ipynb', 'README.md', '.ipynb_checkpoints']\n",
      "True\n"
     ]
    },
    {
     "data": {
      "text/plain": [
       "['README.md']"
      ]
     },
     "execution_count": 57,
     "metadata": {},
     "output_type": "execute_result"
    }
   ],
   "source": [
    "import os\n",
    "\n",
    "filename = 'spam.txt'\n",
    "print(filename.endswith(('.txt', '.md')))\n",
    "print(filename.startswith('file:'))\n",
    "url = 'http://www.hallooo.org'\n",
    "print(url.startswith('http:'))\n",
    "\n",
    "filenames = os.listdir('.')\n",
    "print(filenames)\n",
    "\n",
    "print(any(name.endswith('.md') for name in filenames))\n",
    "\n",
    "# MAKE SURE THE CHOICES ARE A TUPLE!!!\n",
    "\n",
    "[name for name in filenames if name.endswith(('.md', '.h'))]\n"
   ]
  },
  {
   "cell_type": "markdown",
   "metadata": {},
   "source": [
    "## 2.3. Matching strings using shell wildcard patterns: fnmatch"
   ]
  },
  {
   "cell_type": "markdown",
   "metadata": {},
   "source": [
    "Match text with commonly used patterns in unix shell."
   ]
  },
  {
   "cell_type": "code",
   "execution_count": 79,
   "metadata": {},
   "outputs": [
    {
     "name": "stdout",
     "output_type": "stream",
     "text": [
      "True False True True\n",
      "['7424 N CLARK ST']\n",
      "['7424 N CLARK ST']\n"
     ]
    }
   ],
   "source": [
    "from fnmatch import fnmatch, fnmatchcase\n",
    "# Mac is case sensitive, unline windows os\n",
    "# if this matters, then use fnmatchcase, which makes\n",
    "# the command case sensitive\n",
    "print(\n",
    "    fnmatch('foo.txt', '*.txt'),\n",
    "    fnmatch('foo.txt', '*.TXT'),\n",
    "    fnmatch('foo.txt', '?oo.txt'),\n",
    "    fnmatch('Dat4544554956544584.csv', 'Dat[0-9]*')\n",
    ")\n",
    "\n",
    "names = ['Dat1.csv', 'config.ini']\n",
    "[name for name in names if fnmatch(name, 'Dat*.csv')]\n",
    "\n",
    "# fnmatch can also be used for non-file names\n",
    "addresses = [\n",
    "    '7424 N CLARK ST',\n",
    "    '2922 W HALOO AVE'\n",
    "]\n",
    "\n",
    "print([addr for addr in addresses if fnmatchcase(addr, '*ST')])\n",
    "print([addr for addr in addresses if fnmatchcase(addr, '74[1-9][1-9] *CLARK*')])\n",
    "\n",
    "# For code that explicitly works with filenames, use the glob module of 5.13."
   ]
  },
  {
   "cell_type": "markdown",
   "metadata": {},
   "source": [
    "## 2.4. Splitting strings on any of multiple delimeters: re.compile, .match(), .findall(), .finditer()"
   ]
  },
  {
   "cell_type": "markdown",
   "metadata": {},
   "source": [
    "You want to search or match text for a specific pattern."
   ]
  },
  {
   "cell_type": "code",
   "execution_count": 107,
   "metadata": {},
   "outputs": [
    {
     "name": "stdout",
     "output_type": "stream",
     "text": [
      "4\n",
      "yes\n",
      "11/27/2021 11 2021\n",
      "('11', '27', '2021')\n",
      "[('11', '27', '2021'), ('11', '27', '2021')] 11\n",
      "('11', '27', '2021')\n",
      "('11', '27', '2021')\n"
     ]
    }
   ],
   "source": [
    "# You can use exact match with ==, startswith, endswith, and \n",
    "text = 'yes no no no yes no yes yes'\n",
    "# Yields the position of the first character of the \n",
    "# first occurance\n",
    "print(text.find('no'))\n",
    "\n",
    "import re\n",
    "\n",
    "date = '11/27/2021'\n",
    "# \\d+ means match one or more digits\n",
    "# The \"$\" at the end is to speciy an exact match\n",
    "pattern = re.compile(r'\\d+/\\d+/\\d+$')\n",
    "\n",
    "# This always starts checking from the beginning of\n",
    "# the string\n",
    "print('yes') if pattern.match(date) else print('no')\n",
    "\n",
    "date_2 = 'lipsum 11/27/2021 lipsum 11/27/2021'\n",
    "\n",
    "# this finds the pattern wherever it is in the tex\n",
    "pattern.findall(date_2)\n",
    "\n",
    "# it is notmal to use capture groups. This simplifies\n",
    "# later processing because you can selectively\n",
    "# pick the groups later on\n",
    "\n",
    "pattern = re.compile(r'(\\d+)/(\\d+)/(\\d+)')\n",
    "m = pattern.match(date)\n",
    "print(\n",
    "    m.group(0),\n",
    "    m.group(1),\n",
    "    m.group(3)\n",
    ")\n",
    "print(m.groups())\n",
    "\n",
    "m = pattern.findall(date_2)\n",
    "print(m,\n",
    "m[0][0])\n",
    "\n",
    "# USE finditer to find them iteratively\n",
    "for m in pattern.finditer(date_2):\n",
    "    print(m.groups())"
   ]
  },
  {
   "cell_type": "markdown",
   "metadata": {},
   "source": [
    "## 2.5. Searching and replacing text"
   ]
  },
  {
   "cell_type": "code",
   "execution_count": 113,
   "metadata": {},
   "outputs": [
    {
     "data": {
      "text/plain": [
       "'lipsum 2021-11-27 lipsum 2021-11-27'"
      ]
     },
     "execution_count": 113,
     "metadata": {},
     "output_type": "execute_result"
    }
   ],
   "source": [
    "# for simple literal patterns, use:\n",
    "text = 'yes no no no yes no yes yes'\n",
    "text.replace('yes', 'yep')\n",
    "\n",
    "# for more complicated paterns\n",
    "import re\n",
    "\n",
    "text =  'lipsum 11/27/2021 lipsum 11/27/2021'\n",
    "# very useful to use groups\n",
    "re.sub(r'(\\d+)/(\\d+)/(\\d+)', r'\\3-\\1-\\2', text)\n",
    "\n",
    "# also\n",
    "pattern = re.compile(r'(\\d+)/(\\d+)/(\\d+)')\n",
    "pattern.sub(r'\\3-\\1-\\2', text)"
   ]
  },
  {
   "cell_type": "code",
   "execution_count": 118,
   "metadata": {},
   "outputs": [
    {
     "data": {
      "text/plain": [
       "('lipsum 27 Nov 2021 lipsum 27 Nov 2021', 2)"
      ]
     },
     "execution_count": 118,
     "metadata": {},
     "output_type": "execute_result"
    }
   ],
   "source": [
    "# For more complicated substitutions, you can use\n",
    "#  a callback function instead\n",
    "\n",
    "from calendar import month_abbr\n",
    "\n",
    "# the input is a matcg or find object\n",
    "def change_date(m):\n",
    "    \n",
    "    mon_name = month_abbr[int(m.group(1))]\n",
    "    return '{} {} {}'.format(m.group(2), mon_name, m.group(3))\n",
    "\n",
    "newtext = pattern.sub(change_date, text)\n",
    "pattern.subn(change_date, text)"
   ]
  },
  {
   "cell_type": "markdown",
   "metadata": {},
   "source": [
    "## 2.6. Searching and replacing case-insensitive text"
   ]
  },
  {
   "cell_type": "markdown",
   "metadata": {},
   "source": []
  },
  {
   "cell_type": "code",
   "execution_count": null,
   "metadata": {},
   "outputs": [],
   "source": []
  },
  {
   "cell_type": "markdown",
   "metadata": {},
   "source": [
    "## 2.7. Specifying a regular expression for the shortest match"
   ]
  },
  {
   "cell_type": "markdown",
   "metadata": {},
   "source": []
  },
  {
   "cell_type": "code",
   "execution_count": null,
   "metadata": {},
   "outputs": [],
   "source": []
  },
  {
   "cell_type": "markdown",
   "metadata": {},
   "source": [
    "## 2.8. Writing a regular expression for multiline patterns"
   ]
  },
  {
   "cell_type": "markdown",
   "metadata": {},
   "source": []
  },
  {
   "cell_type": "code",
   "execution_count": null,
   "metadata": {},
   "outputs": [],
   "source": []
  },
  {
   "cell_type": "markdown",
   "metadata": {},
   "source": [
    "## 2.9. Normalizing unicode text to a standard representation"
   ]
  },
  {
   "cell_type": "markdown",
   "metadata": {},
   "source": []
  },
  {
   "cell_type": "code",
   "execution_count": null,
   "metadata": {},
   "outputs": [],
   "source": []
  },
  {
   "cell_type": "markdown",
   "metadata": {},
   "source": [
    "## 2.10. Working with unicode characters in regular expressions"
   ]
  },
  {
   "cell_type": "markdown",
   "metadata": {},
   "source": []
  },
  {
   "cell_type": "code",
   "execution_count": null,
   "metadata": {},
   "outputs": [],
   "source": []
  },
  {
   "cell_type": "markdown",
   "metadata": {},
   "source": [
    "## 2.11. Stripping unwanted characters from strings"
   ]
  },
  {
   "cell_type": "markdown",
   "metadata": {},
   "source": []
  },
  {
   "cell_type": "code",
   "execution_count": null,
   "metadata": {},
   "outputs": [],
   "source": []
  },
  {
   "cell_type": "markdown",
   "metadata": {},
   "source": [
    "## 2.12. Sanitizing and cleaning up text"
   ]
  },
  {
   "cell_type": "markdown",
   "metadata": {},
   "source": []
  },
  {
   "cell_type": "code",
   "execution_count": null,
   "metadata": {},
   "outputs": [],
   "source": []
  },
  {
   "cell_type": "markdown",
   "metadata": {},
   "source": [
    "## 2.13. Aligning text strings"
   ]
  },
  {
   "cell_type": "markdown",
   "metadata": {},
   "source": []
  },
  {
   "cell_type": "code",
   "execution_count": null,
   "metadata": {},
   "outputs": [],
   "source": []
  },
  {
   "cell_type": "markdown",
   "metadata": {},
   "source": [
    "## 2.14. Combining and concatenating strings"
   ]
  },
  {
   "cell_type": "markdown",
   "metadata": {},
   "source": []
  },
  {
   "cell_type": "code",
   "execution_count": null,
   "metadata": {},
   "outputs": [],
   "source": []
  },
  {
   "cell_type": "markdown",
   "metadata": {},
   "source": [
    "## 2.15. Interpolating variables in strings"
   ]
  },
  {
   "cell_type": "markdown",
   "metadata": {},
   "source": []
  },
  {
   "cell_type": "code",
   "execution_count": null,
   "metadata": {},
   "outputs": [],
   "source": []
  },
  {
   "cell_type": "markdown",
   "metadata": {},
   "source": [
    "## 2.16. Reformatting text to a fixed number of columns"
   ]
  },
  {
   "cell_type": "markdown",
   "metadata": {},
   "source": []
  },
  {
   "cell_type": "code",
   "execution_count": null,
   "metadata": {},
   "outputs": [],
   "source": []
  },
  {
   "cell_type": "markdown",
   "metadata": {},
   "source": [
    "## 2.17. Handling HTML and XML entities in text"
   ]
  },
  {
   "cell_type": "markdown",
   "metadata": {},
   "source": []
  },
  {
   "cell_type": "code",
   "execution_count": null,
   "metadata": {},
   "outputs": [],
   "source": []
  },
  {
   "cell_type": "markdown",
   "metadata": {},
   "source": [
    "## 2.18. Tokenizing text"
   ]
  },
  {
   "cell_type": "markdown",
   "metadata": {},
   "source": []
  },
  {
   "cell_type": "code",
   "execution_count": null,
   "metadata": {},
   "outputs": [],
   "source": []
  },
  {
   "cell_type": "markdown",
   "metadata": {},
   "source": [
    "## 2.19. Writing a simple recursive descent parser"
   ]
  },
  {
   "cell_type": "markdown",
   "metadata": {},
   "source": []
  },
  {
   "cell_type": "code",
   "execution_count": null,
   "metadata": {},
   "outputs": [],
   "source": []
  },
  {
   "cell_type": "markdown",
   "metadata": {},
   "source": [
    "## 2.20. Performing text operations on byte strings"
   ]
  },
  {
   "cell_type": "markdown",
   "metadata": {},
   "source": []
  },
  {
   "cell_type": "code",
   "execution_count": null,
   "metadata": {},
   "outputs": [],
   "source": []
  }
 ],
 "metadata": {
  "kernelspec": {
   "display_name": "Python 3",
   "language": "python",
   "name": "python3"
  },
  "language_info": {
   "codemirror_mode": {
    "name": "ipython",
    "version": 3
   },
   "file_extension": ".py",
   "mimetype": "text/x-python",
   "name": "python",
   "nbconvert_exporter": "python",
   "pygments_lexer": "ipython3",
   "version": "3.9.2"
  }
 },
 "nbformat": 4,
 "nbformat_minor": 4
}
