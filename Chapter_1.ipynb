{
 "cells": [
  {
   "cell_type": "markdown",
   "metadata": {},
   "source": [
    "# Chapter 1: Data structures and algorithms"
   ]
  },
  {
   "cell_type": "markdown",
   "metadata": {},
   "source": [
    "## 1.1. Unpacking a sequence into separate variables: var1, var2, var3 = (1, 2, 3)"
   ]
  },
  {
   "cell_type": "markdown",
   "metadata": {},
   "source": [
    "#### You need to unpack a sequence of N elements from an iterable into N variables."
   ]
  },
  {
   "cell_type": "code",
   "execution_count": 9,
   "metadata": {},
   "outputs": [
    {
     "name": "stdout",
     "output_type": "stream",
     "text": [
      "4 5\n"
     ]
    }
   ],
   "source": [
    "# Tupple\n",
    "p = (4, 5)\n",
    "x, y = p\n",
    "print(x, y)"
   ]
  },
  {
   "cell_type": "code",
   "execution_count": 10,
   "metadata": {},
   "outputs": [
    {
     "name": "stdout",
     "output_type": "stream",
     "text": [
      "car 5 90.4 (2021, 8, 13)\n",
      "2021 8 13\n"
     ]
    }
   ],
   "source": [
    "data = ['car', 5, 90.4, (2021,8,13)]\n",
    "name, age, price, date = data\n",
    "print(name, age, price, date)\n",
    "\n",
    "# Or\n",
    "\n",
    "name, age, price, (year, month, day) = data\n",
    "print(year, month, day)"
   ]
  },
  {
   "cell_type": "markdown",
   "metadata": {},
   "source": [
    "#### Unpacking works with any object that is an iterable, which include strings, files, iterators, and generators."
   ]
  },
  {
   "cell_type": "code",
   "execution_count": 11,
   "metadata": {},
   "outputs": [
    {
     "name": "stdout",
     "output_type": "stream",
     "text": [
      "H e l l o\n"
     ]
    }
   ],
   "source": [
    "s = 'Hello'\n",
    "a, b, c, d, e  = s\n",
    "print(a, b, c, d, e)"
   ]
  },
  {
   "cell_type": "markdown",
   "metadata": {},
   "source": [
    "#### You can also use a throaway variable if you want to discard certain values"
   ]
  },
  {
   "cell_type": "code",
   "execution_count": 12,
   "metadata": {},
   "outputs": [
    {
     "name": "stdout",
     "output_type": "stream",
     "text": [
      "5 90.4\n"
     ]
    }
   ],
   "source": [
    "_, age, price, _ = data\n",
    "print(age, price)"
   ]
  },
  {
   "cell_type": "markdown",
   "metadata": {},
   "source": [
    "## 1.2. Unpacking elements from iterables of arbitrary length: first, *var, before_last, last = record "
   ]
  },
  {
   "cell_type": "markdown",
   "metadata": {},
   "source": [
    "#### You need to unpack a sequence of >N elements from an iterable into N variables. -> Using star expressions. You can only use one star expression per assignment.\n",
    "* expression: allows you to fill in arguments from an iterable\n",
    "https://stackoverflow.com/questions/61618505/what-does-do-with-range-in-python"
   ]
  },
  {
   "cell_type": "code",
   "execution_count": 13,
   "metadata": {},
   "outputs": [],
   "source": [
    "def drop_first_last(grades):\n",
    "    \n",
    "    first, *middle, last = grades\n",
    "    return sum(middle)/len(grades), middle"
   ]
  },
  {
   "cell_type": "code",
   "execution_count": 14,
   "metadata": {},
   "outputs": [
    {
     "data": {
      "text/plain": [
       "(3.625, [2, 7, 5, 9, 1, 5])"
      ]
     },
     "execution_count": 14,
     "metadata": {},
     "output_type": "execute_result"
    }
   ],
   "source": [
    "grades = (8,2,7,5,9,1,5,5)\n",
    "drop_first_last(grades)"
   ]
  },
  {
   "cell_type": "code",
   "execution_count": 15,
   "metadata": {},
   "outputs": [
    {
     "name": "stdout",
     "output_type": "stream",
     "text": [
      "Rick rick@no-reply.com ['798-415-215', '155-255-856']\n"
     ]
    }
   ],
   "source": [
    "record = ('Rick', 'rick@no-reply.com', '798-415-215', '155-255-856')\n",
    "name, email, *phone_numbers = record\n",
    "print(name, email, phone_numbers)"
   ]
  },
  {
   "cell_type": "markdown",
   "metadata": {},
   "source": [
    "The variable with the start method will always be considered a list even if there are no values assigned. Therfore, no need for type checking."
   ]
  },
  {
   "cell_type": "code",
   "execution_count": 16,
   "metadata": {},
   "outputs": [
    {
     "name": "stdout",
     "output_type": "stream",
     "text": [
      "Trailing avg 4.714285714285714 vs. current 8\n",
      "[3, 5, 6, 3, 7, 3, 6]\n",
      "8\n"
     ]
    }
   ],
   "source": [
    "# You can also do this\n",
    "sales_records = (3, 5, 6, 3, 7, 3, 6, 8)\n",
    "*trailing_records, current_record = sales_records\n",
    "trailing_avg = sum(trailing_records)/len(trailing_records)\n",
    "print(f'Trailing avg {trailing_avg} vs. current {current_record}')\n",
    "print(trailing_records)\n",
    "print(current_record)"
   ]
  },
  {
   "cell_type": "markdown",
   "metadata": {},
   "source": [
    "#### Unpacking iterables with the star expression is useful when the length of the iterable is unknown and there is a pattern we can exploit"
   ]
  },
  {
   "cell_type": "code",
   "execution_count": 17,
   "metadata": {},
   "outputs": [
    {
     "name": "stdout",
     "output_type": "stream",
     "text": [
      "foo 1 2\n",
      "bar hello\n",
      "foo 3 4\n"
     ]
    }
   ],
   "source": [
    "records = [\n",
    "    ('foo', 1, 2),\n",
    "    ('bar', 'hello'),\n",
    "    ('foo', 3, 4)\n",
    "]\n",
    "\n",
    "def do_foo(x, y):\n",
    "    \n",
    "    print('foo', x, y)\n",
    "    \n",
    "def do_bar(s):\n",
    "    \n",
    "    print('bar', s)\n",
    "    \n",
    "for tag, *args in records: # here you need * because you are filling 'arg' from an iterable, \n",
    "                            # the sequence after the tag\n",
    "    \n",
    "    if tag == 'foo':\n",
    "        # here you need again a * because you are filling arguments of a function with the iterable 'arg'\n",
    "        do_foo(*args) \n",
    "    \n",
    "    elif tag == 'bar':\n",
    "    \n",
    "        do_bar(*args)"
   ]
  },
  {
   "cell_type": "code",
   "execution_count": 18,
   "metadata": {},
   "outputs": [
    {
     "name": "stdout",
     "output_type": "stream",
     "text": [
      "[3, 5, 6, 3, 7, 3, 6]\n",
      "<class 'list'>\n",
      "3 5 6 3 7 3 6\n"
     ]
    }
   ],
   "source": [
    "# If you do not use * before the list, then you get a list object\n",
    "print(trailing_records)\n",
    "print(type(trailing_records))\n",
    "# if you use the *, then you get all the values at once. I tried to save them liek this a, b, c, d, e, f, g = *trailing_records\n",
    "# But it yields an error. The book does not talk about why it passess them into the functions using *args in the example above. Edit: see previous cell\n",
    "# intuitively that is because otherwise you are passing a list, which is 1 object and not the 2 objects the function is expecting.\n",
    "print(*trailing_records)"
   ]
  },
  {
   "cell_type": "code",
   "execution_count": 19,
   "metadata": {},
   "outputs": [
    {
     "name": "stdout",
     "output_type": "stream",
     "text": [
      "hello\n",
      "important\n",
      "more_important\n"
     ]
    }
   ],
   "source": [
    "# they are also useful to use with splitting strings\n",
    "line = 'hello:bla:234:blabla:2899:blablabla:important:more_important'\n",
    "word, *fields, before_last, last = line.split(':')\n",
    "print(word)\n",
    "print(before_last)\n",
    "print(last)"
   ]
  },
  {
   "cell_type": "code",
   "execution_count": 20,
   "metadata": {},
   "outputs": [
    {
     "name": "stdout",
     "output_type": "stream",
     "text": [
      "ACME\n",
      "2021\n"
     ]
    }
   ],
   "source": [
    "record = ('ACME', 50, 233.66, (13,8,2021))\n",
    "name, *_, (*_, year) = record\n",
    "print(name)\n",
    "print(year)"
   ]
  },
  {
   "cell_type": "code",
   "execution_count": 21,
   "metadata": {},
   "outputs": [
    {
     "name": "stdout",
     "output_type": "stream",
     "text": [
      "1\n",
      "[2, 57, 58, 4]\n"
     ]
    }
   ],
   "source": [
    "items = [1,2,57,58,4]\n",
    "head, *tail = items\n",
    "print(head)\n",
    "print(tail)"
   ]
  },
  {
   "cell_type": "code",
   "execution_count": 22,
   "metadata": {},
   "outputs": [
    {
     "name": "stdout",
     "output_type": "stream",
     "text": [
      "[1, 2, 57, 58, 4]\n",
      "Pass 1: head = 1, tail = [2, 57, 58, 4]\n",
      "Pass 1: head = 2, tail = [57, 58, 4]\n",
      "Pass 1: head = 57, tail = [58, 4]\n",
      "Pass 1: head = 58, tail = [4]\n",
      "Pass 1: head = 4, tail = []\n"
     ]
    },
    {
     "data": {
      "text/plain": [
       "122"
      ]
     },
     "execution_count": 22,
     "metadata": {},
     "output_type": "execute_result"
    }
   ],
   "source": [
    "def summation(items):\n",
    "    \n",
    "    head, *tail = items\n",
    "    print(f'Pass 1: head = {head}, tail = {tail}')\n",
    "    \n",
    "    return head + summation(tail) if tail else head\n",
    "\n",
    "print(items)\n",
    "summation(items)\n",
    "    "
   ]
  },
  {
   "cell_type": "code",
   "execution_count": 24,
   "metadata": {},
   "outputs": [
    {
     "name": "stdout",
     "output_type": "stream",
     "text": [
      "[]\n",
      "over\n"
     ]
    }
   ],
   "source": [
    "head, second, third, forth, fifth, *tail = items\n",
    "\n",
    "if tail:\n",
    "    \n",
    "    print(tail)\n",
    "else:\n",
    "    print(tail)\n",
    "    print('over')"
   ]
  },
  {
   "cell_type": "markdown",
   "metadata": {},
   "source": [
    "#### Recursion is not srong in Python, because of its inherent limit."
   ]
  },
  {
   "cell_type": "markdown",
   "metadata": {},
   "source": [
    "## 1.3. Keeping the last N items: deque (Use deque instead of lists)"
   ]
  },
  {
   "cell_type": "markdown",
   "metadata": {},
   "source": [
    "Keep a limited history of the last few items seen during an iteration or processing. "
   ]
  },
  {
   "cell_type": "code",
   "execution_count": 32,
   "metadata": {},
   "outputs": [
    {
     "name": "stdout",
     "output_type": "stream",
     "text": [
      "Executes the previous code only once!!!\n",
      "python\n",
      "--------------------\n",
      "python\n",
      "First sentence.\n",
      "Second sentence, man man such a long text.\n",
      "Third sentence,\n",
      "python gibberish iuhdco8i2nvwcowhcojwvopcwjvcpow\n",
      "--------------------\n",
      "Third sentence,\n",
      "python gibberish iuhdco8i2nvwcowhcojwvopcwjvcpow\n",
      "2woijcp2wvm\n",
      "2uvho3vw\n",
      "+woahviowjfpo2jw\\'fc0f2ik\\'fc\\'dfgkvm\n",
      "python+vwv\n",
      "--------------------\n",
      "Wv\n",
      "\n",
      "\n",
      "wvpwkv\\'fc3wmvpwkv+\\'b4w\n",
      "Vw\n",
      "python\n",
      "--------------------\n",
      "\n",
      "\n",
      "wvpwkv\\'fc3wmvpwkv+\\'b4w\n",
      "Vw\n",
      "python\n",
      "python\n",
      "--------------------\n"
     ]
    }
   ],
   "source": [
    "from collections import deque \n",
    "\n",
    "def search(lines, pattern, history=5):\n",
    "    \n",
    "    previous_lines = deque(maxlen=history)\n",
    "    print('Executes the previous code only once!!!')\n",
    "    for line in lines:\n",
    "        \n",
    "        if pattern in line:\n",
    "            #print('inside pattern')\n",
    "            yield line, previous_lines\n",
    "        #print('outside pattern')\n",
    "        previous_lines.append(line)\n",
    "        \n",
    "# Example using a file\n",
    "if __name__ == '__main__':\n",
    "\n",
    "    with open('helper_files/somefile.txt') as f:\n",
    "        \n",
    "        for line, prevlines in search(f, 'python', 5):\n",
    "            \n",
    "            for pline in prevlines:\n",
    "                \n",
    "                print(pline, end='')\n",
    "            print(line, end='')\n",
    "            print('-'*20)"
   ]
  },
  {
   "cell_type": "markdown",
   "metadata": {},
   "source": [
    "Yield is a keyword in Python that is used to return from a function without destroying the states of its local variable and when the function is called, the execution starts from the last yield statement. Any function that contains a yield keyword is termed a generator. Hence, yield is what makes a generator. \n",
    "Once it reaches yield, the outputs \"leave\" the function to the outside, which are used in the global scope, but once the iteration is over outside, it goes back in the function\n",
    "\n",
    "if __name__ == '__main__':\n",
    "https://stackoverflow.com/questions/419163/what-does-if-name-main-do"
   ]
  },
  {
   "cell_type": "markdown",
   "metadata": {},
   "source": [
    "Searching items in a file is commonly implemented using generator functions involving \"yield\". This decouples the process of searching from the code that uses the results. \n",
    "\n",
    "deque(maxlen=N) creates a fixed-sized queue, when new items are added and thus the queue is full, it automatically removes the oldest item."
   ]
  },
  {
   "cell_type": "code",
   "execution_count": 33,
   "metadata": {},
   "outputs": [
    {
     "name": "stdout",
     "output_type": "stream",
     "text": [
      "deque([1, 2, 3], maxlen=3)\n",
      "deque([2, 3, 4], maxlen=3)\n",
      "deque([3, 4, 5], maxlen=3)\n"
     ]
    }
   ],
   "source": [
    "q = deque(maxlen=3)\n",
    "q.append(1)\n",
    "q.append(2)\n",
    "q.append(3)\n",
    "print(q)\n",
    "q.append(4)\n",
    "print(q)\n",
    "q.append(5)\n",
    "print(q)\n"
   ]
  },
  {
   "cell_type": "markdown",
   "metadata": {},
   "source": [
    "This solution is more elegant than deleting items and it runs much faster. You also can use it without a length"
   ]
  },
  {
   "cell_type": "code",
   "execution_count": 34,
   "metadata": {},
   "outputs": [
    {
     "name": "stdout",
     "output_type": "stream",
     "text": [
      "deque([1, 2, 3])\n",
      "deque([4, 1, 2, 3])\n",
      "deque([4, 1, 2])\n",
      "deque([1, 2])\n",
      "deque([1, 2, 5])\n"
     ]
    }
   ],
   "source": [
    "q = deque()\n",
    "q.append(1)\n",
    "q.append(2)\n",
    "q.append(3)\n",
    "print(q)\n",
    "q.appendleft(4)\n",
    "print(q)\n",
    "q.pop()\n",
    "print(q)\n",
    "q.popleft()\n",
    "print(q)\n",
    "q.append(5)\n",
    "print(q)"
   ]
  },
  {
   "cell_type": "markdown",
   "metadata": {},
   "source": [
    "#### Adding or popping items frmo either end of a queue has O(1) complexity. This is unlike a list where inserting or removing items from the front of the list is O(N)."
   ]
  },
  {
   "cell_type": "markdown",
   "metadata": {},
   "source": [
    "## 1.4. Finding the largest or smallest N items: heapq"
   ]
  },
  {
   "cell_type": "markdown",
   "metadata": {},
   "source": [
    "Make a list of the largest or smallest N items of a collection"
   ]
  },
  {
   "cell_type": "code",
   "execution_count": 25,
   "metadata": {},
   "outputs": [
    {
     "name": "stdout",
     "output_type": "stream",
     "text": [
      "[6786, 86, 57]\n",
      "[1, 3, 4]\n",
      "[{'name': 'FB', 'shares': 1274, 'price': 1.1}, {'name': 'Amazon', 'shares': 424, 'price': 24.1}, {'name': 'Apples', 'shares': 2421, 'price': 27.1}]\n",
      "[{'name': 'MS', 'shares': 41, 'price': 727.1}, {'name': 'AAPL', 'shares': 50, 'price': 178.1}, {'name': 'IBM', 'shares': 100, 'price': 91.1}]\n"
     ]
    }
   ],
   "source": [
    "import heapq\n",
    "\n",
    "nums = [6, 1, 4, 5, 3, 45, 35, 23, 6786, 23, 4, 86, 57 ,34, 24]\n",
    "print(heapq.nlargest(3, nums))\n",
    "print(heapq.nsmallest(3, nums))\n",
    "\n",
    "# with more complicated data structures\n",
    "portfolio = [\n",
    "    {'name': 'IBM', 'shares':100, 'price':91.1},\n",
    "    {'name': 'AAPL', 'shares':50, 'price':178.1},\n",
    "    {'name': 'FB', 'shares':1274, 'price':1.1},\n",
    "    {'name': 'MS', 'shares':41, 'price':727.1},\n",
    "    {'name': 'Amazon', 'shares':424, 'price':24.1},\n",
    "    {'name': 'Apples', 'shares':2421, 'price':27.1},\n",
    "]\n",
    "\n",
    "cheap = heapq.nsmallest(3, portfolio, key=lambda s: s['price'])\n",
    "print(cheap)\n",
    "expensive = heapq.nlargest(3, portfolio, key=lambda s: s['price'])\n",
    "print(expensive)"
   ]
  },
  {
   "cell_type": "markdown",
   "metadata": {},
   "source": [
    "If N is small compared to the overall size of the collection, these functions provide superior performance. Under the covers, they work by first converting the data into a list where items are ordered as a heap."
   ]
  },
  {
   "cell_type": "code",
   "execution_count": 32,
   "metadata": {},
   "outputs": [
    {
     "data": {
      "text/plain": [
       "[1, 3, 4, 5, 4, 45, 24, 23, 6786, 23, 6, 86, 57, 34, 35]"
      ]
     },
     "execution_count": 32,
     "metadata": {},
     "output_type": "execute_result"
    }
   ],
   "source": [
    "heap = list(nums) # not necessary\n",
    "heapq.heapify(heap)\n",
    "heap"
   ]
  },
  {
   "cell_type": "markdown",
   "metadata": {},
   "source": [
    "The most important feature of a heap is that heap[0] is the smallest item. To find the smallest items, you could also do the code in the cells below. Every time you pop the heap, the smallest number will be replaced by the next smallest nunmber, which is an operation that requires O(log(N)). "
   ]
  },
  {
   "cell_type": "code",
   "execution_count": 47,
   "metadata": {},
   "outputs": [
    {
     "data": {
      "text/plain": [
       "1"
      ]
     },
     "execution_count": 47,
     "metadata": {},
     "output_type": "execute_result"
    }
   ],
   "source": [
    "heapq.heappop(heap)"
   ]
  },
  {
   "cell_type": "code",
   "execution_count": 48,
   "metadata": {},
   "outputs": [
    {
     "data": {
      "text/plain": [
       "[3, 4, 4, 5, 6, 45, 24, 23, 6786, 23, 35, 86, 57, 34]"
      ]
     },
     "execution_count": 48,
     "metadata": {},
     "output_type": "execute_result"
    }
   ],
   "source": [
    "heap"
   ]
  },
  {
   "cell_type": "code",
   "execution_count": 49,
   "metadata": {},
   "outputs": [
    {
     "data": {
      "text/plain": [
       "3"
      ]
     },
     "execution_count": 49,
     "metadata": {},
     "output_type": "execute_result"
    }
   ],
   "source": [
    "heapq.heappop(heap)"
   ]
  },
  {
   "cell_type": "code",
   "execution_count": 50,
   "metadata": {},
   "outputs": [
    {
     "data": {
      "text/plain": [
       "4"
      ]
     },
     "execution_count": 50,
     "metadata": {},
     "output_type": "execute_result"
    }
   ],
   "source": [
    "heapq.heappop(heap)"
   ]
  },
  {
   "cell_type": "markdown",
   "metadata": {},
   "source": [
    "If you are tryig to find the smallest or the largest, then it is better to use min() and max(). If N is of similar size to the collection then it is faster to sort it first and take a slice (like below). However, the underlying implementations of nsmallest and nlargest will sort the collection if N is of similar size to the collections's size.\n"
   ]
  },
  {
   "cell_type": "code",
   "execution_count": 54,
   "metadata": {},
   "outputs": [
    {
     "data": {
      "text/plain": [
       "[1, 3, 4]"
      ]
     },
     "execution_count": 54,
     "metadata": {},
     "output_type": "execute_result"
    }
   ],
   "source": [
    "sorted(nums)[:3]"
   ]
  },
  {
   "cell_type": "code",
   "execution_count": 57,
   "metadata": {},
   "outputs": [
    {
     "data": {
      "text/plain": [
       "[1, 3, 4, 4, 5, 6, 23, 23, 24, 34, 35, 45]"
      ]
     },
     "execution_count": 57,
     "metadata": {},
     "output_type": "execute_result"
    }
   ],
   "source": [
    "sorted(nums)[:-3]"
   ]
  },
  {
   "cell_type": "code",
   "execution_count": 55,
   "metadata": {},
   "outputs": [
    {
     "data": {
      "text/plain": [
       "[57, 86, 6786]"
      ]
     },
     "execution_count": 55,
     "metadata": {},
     "output_type": "execute_result"
    }
   ],
   "source": [
    "sorted(nums)[-3:]"
   ]
  },
  {
   "cell_type": "code",
   "execution_count": 56,
   "metadata": {},
   "outputs": [
    {
     "data": {
      "text/plain": [
       "[4, 5, 6, 23, 23, 24, 34, 35, 45, 57, 86, 6786]"
      ]
     },
     "execution_count": 56,
     "metadata": {},
     "output_type": "execute_result"
    }
   ],
   "source": [
    "sorted(nums)[3:]"
   ]
  },
  {
   "cell_type": "markdown",
   "metadata": {},
   "source": [
    "HEAP: https://en.wikipedia.org/wiki/Heap_(data_structure)\n",
    "\n",
    "In computer science, a heap is a specialized tree-based data structure which is essentially an almost complete tree that satisfies the heap property: in a max heap, for any given node C, if P is a parent node of C, then the key (the value) of P is greater than or equal to the key of C. In a min heap, the key of P is less than or equal to the key of C. The node at the \"top\" of the heap (with no parents) is called the root node.\n",
    "\n",
    "The heap is one maximally efficient implementation of an abstract data type called a priority queue, and in fact, priority queues are often referred to as \"heaps\", regardless of how they may be implemented. In a heap, the highest (or lowest) priority element is always stored at the root. However, a heap is not a sorted structure; it can be regarded as being partially ordered. A heap is a useful data structure when it is necessary to repeatedly remove the object with the highest (or lowest) priority. "
   ]
  },
  {
   "cell_type": "markdown",
   "metadata": {},
   "source": [
    "## 1.5. Implementing a priority queue: heapq.push and heapq.pop"
   ]
  },
  {
   "cell_type": "markdown",
   "metadata": {},
   "source": [
    "Implement a queue that sorts items based on a given priority and always returns the highest priority item on each pop operation."
   ]
  },
  {
   "cell_type": "code",
   "execution_count": 39,
   "metadata": {},
   "outputs": [],
   "source": [
    "import heapq\n",
    "\n",
    "class PriorityQueue:\n",
    "    \n",
    "    def __init__(self):\n",
    "        self._queue = []\n",
    "        self._index = 0\n",
    "    \n",
    "    def push(self, item, priority):\n",
    "        heapq.heappush(self._queue, (-priority, self._index, item))\n",
    "        self._index += 1\n",
    "        \n",
    "    def pop(self):\n",
    "        return heapq.heappop(self._queue)[-1] # This way only the item name is returned\n",
    "    \n",
    "    def __repr__(self):\n",
    "        return '{!r}'.format(self._queue)    \n",
    "    \n",
    "class Item:\n",
    "    \n",
    "    def __init__(self, name):\n",
    "        self.name = name\n",
    "    \n",
    "    def __repr__(self):\n",
    "        return 'Item({!r})'.format(self.name)\n",
    "        "
   ]
  },
  {
   "cell_type": "code",
   "execution_count": 40,
   "metadata": {},
   "outputs": [
    {
     "data": {
      "text/plain": [
       "[(-5, 1, Item('bar')), (-1, 0, Item('foo')), (-4, 2, Item('spam')), (-1, 3, Item('grok'))]"
      ]
     },
     "execution_count": 40,
     "metadata": {},
     "output_type": "execute_result"
    }
   ],
   "source": [
    "q = PriorityQueue()\n",
    "q.push(Item('foo'), 1)\n",
    "q.push(Item('bar'), 5)\n",
    "q.push(Item('spam'), 4)\n",
    "q.push(Item('grok'), 1)\n",
    "q"
   ]
  },
  {
   "cell_type": "code",
   "execution_count": 41,
   "metadata": {},
   "outputs": [
    {
     "name": "stdout",
     "output_type": "stream",
     "text": [
      "Item('bar')\n",
      "Item('spam')\n",
      "Item('foo')\n",
      "Item('grok')\n"
     ]
    }
   ],
   "source": [
    "print(q.pop())\n",
    "print(q.pop())\n",
    "print(q.pop())\n",
    "print(q.pop())"
   ]
  },
  {
   "cell_type": "markdown",
   "metadata": {},
   "source": [
    "The highest priority has the highest of numbers, and in case of a tie, the first one introduced in the queue is poped."
   ]
  },
  {
   "cell_type": "markdown",
   "metadata": {},
   "source": [
    "The first item in the list has the highest priority (cell 29).\n",
    "Push and pop have O(log N) complexity.\n",
    "The queue consist of tuples of the form (-priority, self._index, item). the negation is to sort values from highest prio to lowest, which is the opposite to the normal heap ordering. The index allows to order items with the same prio level\n",
    "The pop method always returns the smallest item (prio -5)."
   ]
  },
  {
   "cell_type": "code",
   "execution_count": 32,
   "metadata": {},
   "outputs": [
    {
     "ename": "TypeError",
     "evalue": "'<' not supported between instances of 'Item' and 'Item'",
     "output_type": "error",
     "traceback": [
      "\u001b[0;31m---------------------------------------------------------------------------\u001b[0m",
      "\u001b[0;31mTypeError\u001b[0m                                 Traceback (most recent call last)",
      "\u001b[0;32m<ipython-input-32-2e9b60c89db1>\u001b[0m in \u001b[0;36m<module>\u001b[0;34m\u001b[0m\n\u001b[1;32m      4\u001b[0m \u001b[0ma\u001b[0m \u001b[0;34m=\u001b[0m \u001b[0mItem\u001b[0m\u001b[0;34m(\u001b[0m\u001b[0;34m'foo'\u001b[0m\u001b[0;34m)\u001b[0m\u001b[0;34m\u001b[0m\u001b[0;34m\u001b[0m\u001b[0m\n\u001b[1;32m      5\u001b[0m \u001b[0mb\u001b[0m \u001b[0;34m=\u001b[0m \u001b[0mItem\u001b[0m\u001b[0;34m(\u001b[0m\u001b[0;34m'grok'\u001b[0m\u001b[0;34m)\u001b[0m\u001b[0;34m\u001b[0m\u001b[0;34m\u001b[0m\u001b[0m\n\u001b[0;32m----> 6\u001b[0;31m \u001b[0ma\u001b[0m \u001b[0;34m<\u001b[0m \u001b[0mb\u001b[0m\u001b[0;34m\u001b[0m\u001b[0;34m\u001b[0m\u001b[0m\n\u001b[0m",
      "\u001b[0;31mTypeError\u001b[0m: '<' not supported between instances of 'Item' and 'Item'"
     ]
    }
   ],
   "source": [
    "# Advantage of items in queues\n",
    "\n",
    "# With only items\n",
    "a = Item('foo')\n",
    "b = Item('grok')\n",
    "a < b"
   ]
  },
  {
   "cell_type": "code",
   "execution_count": 35,
   "metadata": {},
   "outputs": [
    {
     "name": "stdout",
     "output_type": "stream",
     "text": [
      "True\n",
      "True\n",
      "False\n"
     ]
    }
   ],
   "source": [
    "# However, with queues is possible, thanks to the priority and the index\n",
    "a = (1, 0, Item('foo'))\n",
    "b = (5, 1, Item('bar'))\n",
    "c = (1, 2, Item('grok'))\n",
    "\n",
    "print(a < b) # b has higher prio\n",
    "print(a < c) # the prio is the same but a was input before\n",
    "print(b < c) # b has higher prio"
   ]
  },
  {
   "cell_type": "markdown",
   "metadata": {},
   "source": [
    "## 1.6. Mapping keys to multiple values in a dictionary: defaultdict"
   ]
  },
  {
   "cell_type": "markdown",
   "metadata": {},
   "source": [
    "Create a dictionary that maps keys to multiple values in a dictionary, so-called multidict.\n",
    "A dictionary is a mapping where each key is mapped to a single value. To map keys to multiple values, you need to store such values in another container such as a list or set.\n",
    "**Use a list to preserve the insertion of the items, use a set to eliminate duplicates if you do not care about their order.**"
   ]
  },
  {
   "cell_type": "code",
   "execution_count": 50,
   "metadata": {},
   "outputs": [
    {
     "name": "stdout",
     "output_type": "stream",
     "text": [
      "defaultdict(<class 'list'>, {'a': [1, 2, 3], 'b': [4, 5]})\n",
      "defaultdict(<class 'set'>, {'a': {1, 2, 3}, 'b': {4, 5}})\n",
      "[]\n",
      "defaultdict(<class 'list'>, {'a': [1, 2, 3], 'b': [4, 5], 'p': []})\n"
     ]
    }
   ],
   "source": [
    "# cumbersome but works:\n",
    "# lists\n",
    "d = {\n",
    "    'a': [1, 2, 3],\n",
    "    'b': [4, 5]\n",
    "}\n",
    "# sets\n",
    "e = {\n",
    "    'a': {1, 2, 3},\n",
    "    'b': {4, 5}\n",
    "}\n",
    "\n",
    "# to do it faster:\n",
    "\n",
    "from collections import defaultdict\n",
    "\n",
    "d = defaultdict(list)\n",
    "d['a'].append(1)\n",
    "d['a'].append(2)\n",
    "d['a'].append(3)\n",
    "d['b'].append(4)\n",
    "d['b'].append(5)\n",
    "print(d)\n",
    "\n",
    "e = defaultdict(set)\n",
    "e['a'].add(1)\n",
    "e['a'].add(2)\n",
    "e['a'].add(3)\n",
    "e['b'].add(4)\n",
    "e['b'].add(5)\n",
    "print(e)\n",
    "\n",
    "# The problem with defaultdict is that it will create dict entries for keys accessed later on \n",
    "# (even if they are not found in the dict).\n",
    "\n",
    "print(d['p'])\n",
    "print(d)"
   ]
  },
  {
   "cell_type": "code",
   "execution_count": 51,
   "metadata": {},
   "outputs": [
    {
     "name": "stdout",
     "output_type": "stream",
     "text": [
      "{'a': [1, 2, 3], 'b': [4, 5]}\n"
     ]
    }
   ],
   "source": [
    "# to prevent this, one may use: - though it is somewaht unnatural\n",
    "d = {} # regular dict\n",
    "d.setdefault('a', []).append(1)\n",
    "d.setdefault('a', []).append(2)\n",
    "d.setdefault('a', []).append(3)\n",
    "d.setdefault('b', []).append(4)\n",
    "d.setdefault('b', []).append(5)\n",
    "print(d)"
   ]
  },
  {
   "cell_type": "markdown",
   "metadata": {},
   "source": [
    "## 1.7. Keeping dictionaries in order: OrderedDict"
   ]
  },
  {
   "cell_type": "markdown",
   "metadata": {},
   "source": [
    "Create a dictionary and control also the order of items when iterating or serializing"
   ]
  },
  {
   "cell_type": "code",
   "execution_count": 57,
   "metadata": {},
   "outputs": [
    {
     "name": "stdout",
     "output_type": "stream",
     "text": [
      "OrderedDict([('foo', 1), ('bar', 5), ('spam', 3), ('grok', 4)])\n",
      "foo 1\n",
      "bar 5\n",
      "spam 3\n",
      "grok 4\n"
     ]
    }
   ],
   "source": [
    "from collections import OrderedDict\n",
    "\n",
    "d = OrderedDict()\n",
    "d['foo'] = 1\n",
    "d['bar'] = 5\n",
    "d['spam'] = 3\n",
    "d['grok'] = 4\n",
    "\n",
    "print(d)\n",
    "\n",
    "for key in d:\n",
    "    print(key, d[key])"
   ]
  },
  {
   "cell_type": "markdown",
   "metadata": {},
   "source": [
    "An OrderedDict can be useful when you want to build a mapping that you may want to later serialize or encode into a different format. For example, if you want to precisely control the order of fields appearing in a JSON encoding, first building the data in an OrderedDict will do the trick:"
   ]
  },
  {
   "cell_type": "code",
   "execution_count": 58,
   "metadata": {},
   "outputs": [
    {
     "data": {
      "text/plain": [
       "'{\"foo\": 1, \"bar\": 5, \"spam\": 3, \"grok\": 4}'"
      ]
     },
     "execution_count": 58,
     "metadata": {},
     "output_type": "execute_result"
    }
   ],
   "source": [
    "import json\n",
    "json.dumps(d)"
   ]
  },
  {
   "cell_type": "markdown",
   "metadata": {},
   "source": [
    "An OrderedDict internally maintains a doubly linked list that orders the keys according to insertation order. When a new item is inserted it is placed at the end of the list. Subsequent reassignments of an existing key does not change the order.\n",
    "\n",
    "The sie of an OrderedDict is twice as large as the one of a normal dict, due to the extra linked list. If the data to be read is very large, you must consider whether using OrderedDict compesates its size.\n",
    "\n",
    "https://en.wikipedia.org/wiki/Linked_list\n"
   ]
  },
  {
   "cell_type": "markdown",
   "metadata": {},
   "source": [
    "## 1.8. Calculating with dictionaries: max(zip(values,keys)"
   ]
  },
  {
   "cell_type": "markdown",
   "metadata": {},
   "source": [
    "Perform min, max, sort, ... in a dictionary of data."
   ]
  },
  {
   "cell_type": "code",
   "execution_count": 43,
   "metadata": {},
   "outputs": [
    {
     "name": "stdout",
     "output_type": "stream",
     "text": [
      "(10.75, 'FB')\n",
      "(612.78, 'APPL')\n",
      "[(10.75, 'FB'), (37.5, 'HPQ'), (45.23, 'ACME'), (205.65, 'IBM'), (612.78, 'APPL')]\n",
      "(10.75, 'FB')\n"
     ]
    },
    {
     "ename": "ValueError",
     "evalue": "max() arg is an empty sequence",
     "output_type": "error",
     "traceback": [
      "\u001b[0;31m---------------------------------------------------------------------------\u001b[0m",
      "\u001b[0;31mValueError\u001b[0m                                Traceback (most recent call last)",
      "\u001b[0;32m<ipython-input-43-0feb87127de5>\u001b[0m in \u001b[0;36m<module>\u001b[0;34m\u001b[0m\n\u001b[1;32m     20\u001b[0m \u001b[0mprices_and_names\u001b[0m \u001b[0;34m=\u001b[0m \u001b[0mzip\u001b[0m\u001b[0;34m(\u001b[0m\u001b[0mprices\u001b[0m\u001b[0;34m.\u001b[0m\u001b[0mvalues\u001b[0m\u001b[0;34m(\u001b[0m\u001b[0;34m)\u001b[0m\u001b[0;34m,\u001b[0m \u001b[0mprices\u001b[0m\u001b[0;34m.\u001b[0m\u001b[0mkeys\u001b[0m\u001b[0;34m(\u001b[0m\u001b[0;34m)\u001b[0m\u001b[0;34m)\u001b[0m\u001b[0;34m\u001b[0m\u001b[0;34m\u001b[0m\u001b[0m\n\u001b[1;32m     21\u001b[0m \u001b[0mprint\u001b[0m\u001b[0;34m(\u001b[0m\u001b[0mmin\u001b[0m\u001b[0;34m(\u001b[0m\u001b[0mprices_and_names\u001b[0m\u001b[0;34m)\u001b[0m\u001b[0;34m)\u001b[0m\u001b[0;34m\u001b[0m\u001b[0;34m\u001b[0m\u001b[0m\n\u001b[0;32m---> 22\u001b[0;31m \u001b[0mprint\u001b[0m\u001b[0;34m(\u001b[0m\u001b[0mmax\u001b[0m\u001b[0;34m(\u001b[0m\u001b[0mprices_and_names\u001b[0m\u001b[0;34m)\u001b[0m\u001b[0;34m)\u001b[0m\u001b[0;34m\u001b[0m\u001b[0;34m\u001b[0m\u001b[0m\n\u001b[0m",
      "\u001b[0;31mValueError\u001b[0m: max() arg is an empty sequence"
     ]
    }
   ],
   "source": [
    "prices = {\n",
    "    \n",
    "    'ACME': 45.23,\n",
    "    'APPL': 612.78,\n",
    "    'IBM': 205.65,\n",
    "    'HPQ': 37.5,\n",
    "    'FB': 10.75\n",
    "}\n",
    "\n",
    "# One can achieve this by inverting the keys and values using zip(). \n",
    "\n",
    "min_price = min(zip(prices.values(), prices.keys()))\n",
    "print(min_price)\n",
    "max_price = max(zip(prices.values(), prices.keys()))\n",
    "print(max_price)\n",
    "prices_sorted = sorted(zip(prices.values(), prices.keys()))\n",
    "print(prices_sorted)\n",
    "\n",
    "# However, zip creates an iterator that can only be used once\n",
    "prices_and_names = zip(prices.values(), prices.keys())\n",
    "print(min(prices_and_names))\n",
    "print(max(prices_and_names))"
   ]
  },
  {
   "cell_type": "code",
   "execution_count": 44,
   "metadata": {},
   "outputs": [
    {
     "name": "stdout",
     "output_type": "stream",
     "text": [
      "10.75\n",
      "612.78\n",
      "FB\n",
      "10.75\n"
     ]
    }
   ],
   "source": [
    "# If you try to process the dictionary like min(prices), you only process the keys, not the values.\n",
    "# you can fix this using the dict values\n",
    "print(min(prices.values()))\n",
    "print(max(prices.values()))\n",
    "# The probnlem is that you do not get their corresponding keys. To solve it:\n",
    "print((min(prices, key=lambda k: prices[k])))\n",
    "# And to get the value also, you need to do another look up\n",
    "min_value = prices[min(prices, key=lambda k: prices[k])]\n",
    "print(min_value)"
   ]
  },
  {
   "cell_type": "markdown",
   "metadata": {},
   "source": [
    "zip() solves the problem by inverting the dictionary into a sequence of (value, key) pairs. When performing comparisons in such tuples, the value element is compared first, followed by the key. Beware that in case two values are the same, then the key will be used to yield which will be the max or the min - I guess it will translate the key to int (ASCII) and see what is max or min.\n",
    "\n",
    "Note:\n",
    "key: lambda s: \n",
    "https://stackoverflow.com/questions/13669252/what-is-key-lambda\n",
    "It is an anonymous function, you can define it inline"
   ]
  },
  {
   "cell_type": "markdown",
   "metadata": {},
   "source": [
    "## 1.9. Finding commonalities in two dictionaries: .keys(), .items() set operations"
   ]
  },
  {
   "cell_type": "markdown",
   "metadata": {},
   "source": [
    "You want to know what key or values have in common two dictionaries"
   ]
  },
  {
   "cell_type": "code",
   "execution_count": 27,
   "metadata": {},
   "outputs": [],
   "source": [
    "from collections import defaultdict\n",
    "\n",
    "a = {\n",
    "    'x': 1,\n",
    "    'y': 2,\n",
    "    'z': 3\n",
    "}\n",
    "b = {\n",
    "    'w': 1,\n",
    "    'x': 12,\n",
    "    'y': 2\n",
    "}"
   ]
  },
  {
   "cell_type": "code",
   "execution_count": 28,
   "metadata": {},
   "outputs": [
    {
     "data": {
      "text/plain": [
       "{'x', 'y'}"
      ]
     },
     "execution_count": 28,
     "metadata": {},
     "output_type": "execute_result"
    }
   ],
   "source": [
    "# You can use set operations\n",
    "# Keys in common\n",
    "a.keys() & b.keys()"
   ]
  },
  {
   "cell_type": "code",
   "execution_count": 29,
   "metadata": {},
   "outputs": [
    {
     "data": {
      "text/plain": [
       "{'z'}"
      ]
     },
     "execution_count": 29,
     "metadata": {},
     "output_type": "execute_result"
    }
   ],
   "source": [
    "# keys in a that are not in b\n",
    "a.keys() - b.keys()"
   ]
  },
  {
   "cell_type": "code",
   "execution_count": 30,
   "metadata": {},
   "outputs": [
    {
     "data": {
      "text/plain": [
       "{('y', 2)}"
      ]
     },
     "execution_count": 30,
     "metadata": {},
     "output_type": "execute_result"
    }
   ],
   "source": [
    "# find (key,value) pairs in common\n",
    "a.items() & b.items()"
   ]
  },
  {
   "cell_type": "code",
   "execution_count": 31,
   "metadata": {},
   "outputs": [
    {
     "data": {
      "text/plain": [
       "{'y': 2, 'x': 1}"
      ]
     },
     "execution_count": 31,
     "metadata": {},
     "output_type": "execute_result"
    }
   ],
   "source": [
    "# You can also use it to create new dictionaries\n",
    "c = {key:a[key] for key in a.keys() - {'z', 'w'}}\n",
    "c"
   ]
  },
  {
   "cell_type": "markdown",
   "metadata": {},
   "source": [
    "A dictionary is a mapping between a set of keys and values.\n",
    "Keys() returns a keys-view object that supports set operations (unions, intersection, differences), that way you dot need to convert the key into sets, you can work with them directly. \n",
    "items() returns an items-view object consisting of (key, value) pairs. It allows for set operations and which pairs two dicts have in common.\n",
    "values() does not support set operations, this is because unlike with keys, the values are not guaranteed to be unique. "
   ]
  },
  {
   "cell_type": "markdown",
   "metadata": {},
   "source": [
    "## 1.10. Removing duplicates from a sequence while maintaining order"
   ]
  },
  {
   "cell_type": "code",
   "execution_count": 42,
   "metadata": {},
   "outputs": [
    {
     "data": {
      "text/plain": [
       "[1, 5, 2, 9, 10]"
      ]
     },
     "execution_count": 42,
     "metadata": {},
     "output_type": "execute_result"
    }
   ],
   "source": [
    "# If the values of the sequence are hashable, one may use a set and a generator\n",
    "\n",
    "def dedupe(items):\n",
    "    seen = set()\n",
    "    for item in items: \n",
    "        if item not in seen:\n",
    "            yield item\n",
    "            seen.add(item)\n",
    "\n",
    "a = [1,5,2,1,9,1,5,10]\n",
    "list(dedupe(a))"
   ]
  },
  {
   "cell_type": "code",
   "execution_count": 43,
   "metadata": {},
   "outputs": [
    {
     "name": "stdout",
     "output_type": "stream",
     "text": [
      "[{'x': 1, 'y': 2}, {'x': 1, 'y': 3}, {'x': 2, 'y': 4}]\n",
      "[{'x': 1, 'y': 2}, {'x': 2, 'y': 4}]\n"
     ]
    }
   ],
   "source": [
    "# The previous only works if the items are hashable, if they are not (like dicts), then:\n",
    "# the key argument is to input a function that converts items into hashable\n",
    "def dedupe(items, key=None):\n",
    "    seen = set()\n",
    "    for item in items:\n",
    "        # the anonymous function (lambda) will yield a tuple, which is hashable\n",
    "        val = item if key is None else key(item) \n",
    "        if val not in seen:\n",
    "            yield item\n",
    "            seen.add(val)\n",
    "            \n",
    "a = [{'x':1, 'y':2}, {'x':1, 'y':3}, {'x':1, 'y':2}, {'x':2, 'y':4}]\n",
    "print(list(dedupe(a, key=lambda d: (d['x'], d['y']))))\n",
    "print(list(dedupe(a, key=lambda d: (d['x']))))"
   ]
  },
  {
   "cell_type": "code",
   "execution_count": 45,
   "metadata": {},
   "outputs": [
    {
     "data": {
      "text/plain": [
       "{1, 2, 5, 9, 10}"
      ]
     },
     "execution_count": 45,
     "metadata": {},
     "output_type": "execute_result"
    }
   ],
   "source": [
    "# you might be tempted to just create a set to eliminate duplicates,\n",
    "# but that will not preserve the order\n",
    "a = [1,5,2,1,9,1,5,10]\n",
    "set(a)"
   ]
  },
  {
   "cell_type": "markdown",
   "metadata": {},
   "source": [
    "Using a generator allows you to use this function to other objects beyond lists, like files  \n",
    "with open(somfile, 'r') as f:  \n",
    "    for line in dedupe(f):  \n",
    "        ...  \n",
    "        \n",
    "Making a function a generator makes them general purpose."
   ]
  },
  {
   "cell_type": "markdown",
   "metadata": {},
   "source": [
    "## 1.11. Naming a slice\n",
    "Clean up hardcoded slice indices. This is done for readability and maintenance."
   ]
  },
  {
   "cell_type": "code",
   "execution_count": 48,
   "metadata": {},
   "outputs": [
    {
     "data": {
      "text/plain": [
       "888387544.0"
      ]
     },
     "execution_count": 48,
     "metadata": {},
     "output_type": "execute_result"
    }
   ],
   "source": [
    "# you can save the indices in a variable, and then use the variable as index\n",
    "record = '4156418964165484684649595846848487879'\n",
    "shares = record[5:10]\n",
    "\n",
    "# do this instead:\n",
    "SHARES = slice(5,10)\n",
    "PRICE = slice(15,20)\n",
    "cost = int(record[SHARES]) * float(record[PRICE])\n",
    "cost"
   ]
  },
  {
   "cell_type": "code",
   "execution_count": 55,
   "metadata": {},
   "outputs": [
    {
     "name": "stdout",
     "output_type": "stream",
     "text": [
      "5\n",
      "20\n",
      "2\n",
      "(5, 11, 2)\n",
      "w\n",
      "o\n",
      "l\n"
     ]
    }
   ],
   "source": [
    "# slice() creates a slice object \n",
    "# you can also indicate the steps\n",
    "a = slice(5,20,2)\n",
    "print(a.start)\n",
    "print(a.stop)\n",
    "print(a.step)\n",
    "# you can also map a slice onto a sequence of a specifc size by using indices(size), which returns a tuple \n",
    "# (start, stop, step) where all values have been suitably limited to fit wihtin bounds\n",
    "s = 'HellowWorld'\n",
    "print(a.indices(len(s)))\n",
    "for i in range(*a.indices(len(s))):\n",
    "    print(s[i])"
   ]
  },
  {
   "cell_type": "code",
   "execution_count": 63,
   "metadata": {},
   "outputs": [
    {
     "name": "stdout",
     "output_type": "stream",
     "text": [
      "range(5, 11, 2)\n"
     ]
    },
    {
     "ename": "TypeError",
     "evalue": "'tuple' object cannot be interpreted as an integer",
     "output_type": "error",
     "traceback": [
      "\u001b[0;31m---------------------------------------------------------------------------\u001b[0m",
      "\u001b[0;31mTypeError\u001b[0m                                 Traceback (most recent call last)",
      "\u001b[0;32m<ipython-input-63-78657e4a2cb9>\u001b[0m in \u001b[0;36m<module>\u001b[0;34m\u001b[0m\n\u001b[1;32m      3\u001b[0m \u001b[0mprint\u001b[0m\u001b[0;34m(\u001b[0m\u001b[0mrange\u001b[0m\u001b[0;34m(\u001b[0m\u001b[0;34m*\u001b[0m\u001b[0ma\u001b[0m\u001b[0;34m.\u001b[0m\u001b[0mindices\u001b[0m\u001b[0;34m(\u001b[0m\u001b[0mlen\u001b[0m\u001b[0;34m(\u001b[0m\u001b[0ms\u001b[0m\u001b[0;34m)\u001b[0m\u001b[0;34m)\u001b[0m\u001b[0;34m)\u001b[0m\u001b[0;34m)\u001b[0m\u001b[0;34m\u001b[0m\u001b[0;34m\u001b[0m\u001b[0m\n\u001b[1;32m      4\u001b[0m \u001b[0;31m# vs.\u001b[0m\u001b[0;34m\u001b[0m\u001b[0;34m\u001b[0m\u001b[0;34m\u001b[0m\u001b[0m\n\u001b[0;32m----> 5\u001b[0;31m \u001b[0mrange\u001b[0m\u001b[0;34m(\u001b[0m\u001b[0ma\u001b[0m\u001b[0;34m.\u001b[0m\u001b[0mindices\u001b[0m\u001b[0;34m(\u001b[0m\u001b[0mlen\u001b[0m\u001b[0;34m(\u001b[0m\u001b[0ms\u001b[0m\u001b[0;34m)\u001b[0m\u001b[0;34m)\u001b[0m\u001b[0;34m)\u001b[0m\u001b[0;34m\u001b[0m\u001b[0;34m\u001b[0m\u001b[0m\n\u001b[0m",
      "\u001b[0;31mTypeError\u001b[0m: 'tuple' object cannot be interpreted as an integer"
     ]
    }
   ],
   "source": [
    "# https://stackoverflow.com/questions/61618505/what-does-do-with-range-in-python\n",
    "# The star *args syntax lets you fill in arguments from an iterable.\n",
    "print(range(*a.indices(len(s))))\n",
    "# vs.\n",
    "range(a.indices(len(s)))"
   ]
  },
  {
   "cell_type": "markdown",
   "metadata": {},
   "source": [
    "## 1.12. Determining the most frequent ocurring items in a sequence"
   ]
  },
  {
   "cell_type": "code",
   "execution_count": 55,
   "metadata": {},
   "outputs": [
    {
     "name": "stdout",
     "output_type": "stream",
     "text": [
      "[('look', 4), ('eyes', 3), ('into', 1)]\n",
      "Counter({'look': 4, 'eyes': 3, 'into': 1, 'my': 1})\n"
     ]
    }
   ],
   "source": [
    "from collections import Counter\n",
    "\n",
    "words = [\n",
    "    'look', 'into', 'my', 'eyes', 'look', 'look', 'look', 'eyes', 'eyes'\n",
    "]\n",
    "\n",
    "word_counts = Counter(words)\n",
    "top_three = word_counts.most_common(3)\n",
    "print(top_three)\n",
    "print(word_counts)"
   ]
  },
  {
   "cell_type": "markdown",
   "metadata": {},
   "source": [
    "The input to Counter can be any sequence of hashable input items. A Counter is a dictionary that maps the items to the number of occurrences. "
   ]
  },
  {
   "cell_type": "code",
   "execution_count": 57,
   "metadata": {},
   "outputs": [
    {
     "name": "stdout",
     "output_type": "stream",
     "text": [
      "Counter({'look': 6, 'eyes': 5, 'why': 2, 'into': 1, 'my': 1})\n"
     ]
    }
   ],
   "source": [
    "new_words = ['why', 'look', 'eyes']\n",
    "for word in new_words:\n",
    "    word_counts[word] += 1\n",
    "print(word_counts)\n",
    "\n",
    "# OR\n",
    "\n",
    "word_counts.update(new_words)"
   ]
  },
  {
   "cell_type": "code",
   "execution_count": 58,
   "metadata": {},
   "outputs": [
    {
     "name": "stdout",
     "output_type": "stream",
     "text": [
      "Counter({'look': 5, 'eyes': 4, 'into': 1, 'my': 1, 'why': 1})\n",
      "Counter({'look': 3, 'eyes': 2, 'into': 1, 'my': 1})\n"
     ]
    }
   ],
   "source": [
    "# You can apply math operations\n",
    "a = Counter(words)\n",
    "b = Counter(new_words)\n",
    "c = a + b\n",
    "print(c)\n",
    "c = a - b\n",
    "print(c)"
   ]
  },
  {
   "cell_type": "markdown",
   "metadata": {},
   "source": [
    "# 1.13. Sorting a list of dictionaries by a common key"
   ]
  },
  {
   "cell_type": "code",
   "execution_count": 66,
   "metadata": {},
   "outputs": [
    {
     "name": "stdout",
     "output_type": "stream",
     "text": [
      "[{'fname': 'Big', 'lname': 'Jones', 'uid': 1004}, {'fname': 'Brian', 'lname': 'Jones', 'uid': 1003}, {'fname': 'David', 'lname': 'Beazley', 'uid': 1002}, {'fname': 'John', 'lname': 'Cleese', 'uid': 1001}] \n",
      "\n",
      "[{'fname': 'John', 'lname': 'Cleese', 'uid': 1001}, {'fname': 'David', 'lname': 'Beazley', 'uid': 1002}, {'fname': 'Brian', 'lname': 'Jones', 'uid': 1003}, {'fname': 'Big', 'lname': 'Jones', 'uid': 1004}] \n",
      "\n",
      "[{'fname': 'David', 'lname': 'Beazley', 'uid': 1002}, {'fname': 'John', 'lname': 'Cleese', 'uid': 1001}, {'fname': 'Big', 'lname': 'Jones', 'uid': 1004}, {'fname': 'Brian', 'lname': 'Jones', 'uid': 1003}] \n",
      "\n",
      "{'fname': 'Big', 'lname': 'Jones', 'uid': 1004}\n",
      "{'fname': 'John', 'lname': 'Cleese', 'uid': 1001}\n"
     ]
    }
   ],
   "source": [
    "from operator import itemgetter\n",
    "\n",
    "rows = [\n",
    "    {'fname': 'Brian', 'lname': 'Jones', 'uid':1003},\n",
    "    {'fname': 'David', 'lname': 'Beazley', 'uid':1002},\n",
    "    {'fname': 'John', 'lname': 'Cleese', 'uid':1001}, \n",
    "    {'fname': 'Big', 'lname': 'Jones', 'uid':1004},    \n",
    "]\n",
    "\n",
    "rows_by_fname = sorted(rows, key=itemgetter('fname'))\n",
    "rows_by_uid = sorted(rows, key=itemgetter('uid'))\n",
    "rows_by_laname_fname = sorted(rows, key=itemgetter('lname', 'fname'))\n",
    "\n",
    "print(rows_by_fname, '\\n')\n",
    "print(rows_by_uid, '\\n')\n",
    "print(rows_by_laname_fname, '\\n')\n",
    "\n",
    "# also (although somewhat slower):\n",
    "\n",
    "rows_by_fname = sorted(rows, key=lambda r: r['fname'])\n",
    "\n",
    "print(min(rows, key=itemgetter('fname')))\n",
    "print(max(rows, key=itemgetter('fname')))"
   ]
  },
  {
   "cell_type": "markdown",
   "metadata": {},
   "source": [
    "# 1.14. Sorting objects without native comparison support\n"
   ]
  },
  {
   "cell_type": "markdown",
   "metadata": {},
   "source": [
    "The built-in sorted() function takes a key argument that can be passed a callable that will return some value in the object that sorted will use to compare the objects."
   ]
  },
  {
   "cell_type": "code",
   "execution_count": 82,
   "metadata": {},
   "outputs": [
    {
     "name": "stdout",
     "output_type": "stream",
     "text": [
      "[User(23), User(2), User(99)]\n"
     ]
    },
    {
     "data": {
      "text/plain": [
       "[User(2), User(23), User(99)]"
      ]
     },
     "execution_count": 82,
     "metadata": {},
     "output_type": "execute_result"
    }
   ],
   "source": [
    "class User:\n",
    "    def __init__(self, user_id):\n",
    "        self.user_id = user_id\n",
    "    def __repr__(self):\n",
    "        return 'User({!r})'.format(self.user_id)\n",
    "\n",
    "users = [User(23), User(2), User(99)]\n",
    "print(users)\n",
    "\n",
    "sorted(users, key=lambda u: u.user_id)"
   ]
  },
  {
   "cell_type": "code",
   "execution_count": 83,
   "metadata": {},
   "outputs": [
    {
     "data": {
      "text/plain": [
       "[User(2), User(23), User(99)]"
      ]
     },
     "execution_count": 83,
     "metadata": {},
     "output_type": "execute_result"
    }
   ],
   "source": [
    "# or\n",
    "from operator import attrgetter\n",
    "\n",
    "sorted(users, key=attrgetter('user_id'))"
   ]
  },
  {
   "cell_type": "markdown",
   "metadata": {},
   "source": [
    "This technique can also be applied to max and min.\n",
    "attrgetter is somewhat faster than using lambda. Also, attrgetter allows for more arguments to sort."
   ]
  },
  {
   "cell_type": "code",
   "execution_count": 81,
   "metadata": {},
   "outputs": [
    {
     "data": {
      "text/plain": [
       "'foo bar'"
      ]
     },
     "execution_count": 81,
     "metadata": {},
     "output_type": "execute_result"
    }
   ],
   "source": [
    "# Side note:\n",
    "# In str.format, !s chooses to use str to format the object whereas \n",
    "# !r chooses repr to format the value.\n",
    "\n",
    "# The difference can easily be seen with strings \n",
    "# (as repr for a string will include outer quotes).:\n",
    "\n",
    "'foo {!s}'.format('bar') # same as 'foo {}'.format('bar')"
   ]
  },
  {
   "cell_type": "code",
   "execution_count": 79,
   "metadata": {},
   "outputs": [
    {
     "data": {
      "text/plain": [
       "\"foo 'bar'\""
      ]
     },
     "execution_count": 79,
     "metadata": {},
     "output_type": "execute_result"
    }
   ],
   "source": [
    "'foo {!r}'.format('bar')"
   ]
  },
  {
   "cell_type": "markdown",
   "metadata": {},
   "source": [
    "# 1.15. Grouping records together based on a field"
   ]
  },
  {
   "cell_type": "markdown",
   "metadata": {},
   "source": [
    "You have a sequene of dicts or instances and you want to iterate over the data in groups based on the value of a particular field, such as date."
   ]
  },
  {
   "cell_type": "code",
   "execution_count": 93,
   "metadata": {},
   "outputs": [
    {
     "name": "stdout",
     "output_type": "stream",
     "text": [
      "1001\n",
      "     {'fname': 'John', 'lname': 'Cleese', 'uid': 1001}\n",
      "1002\n",
      "     {'fname': 'David', 'lname': 'Beazley', 'uid': 1002}\n",
      "     {'fname': 'Big', 'lname': 'Jones', 'uid': 1002}\n",
      "1003\n",
      "     {'fname': 'Brian', 'lname': 'Jones', 'uid': 1003}\n",
      "     {'fname': 'Big', 'lname': 'Jones', 'uid': 1003}\n",
      "1004\n",
      "     {'fname': 'Big', 'lname': 'Jones', 'uid': 1004}\n",
      "     {'fname': 'Big', 'lname': 'Jones', 'uid': 1004}\n"
     ]
    }
   ],
   "source": [
    "from operator import itemgetter\n",
    "from itertools import groupby\n",
    "\n",
    "rows = [\n",
    "    {'fname': 'Brian', 'lname': 'Jones', 'uid':1003},\n",
    "    {'fname': 'David', 'lname': 'Beazley', 'uid':1002},\n",
    "    {'fname': 'John', 'lname': 'Cleese', 'uid':1001}, \n",
    "    {'fname': 'Big', 'lname': 'Jones', 'uid':1004},    \n",
    "    {'fname': 'Big', 'lname': 'Jones', 'uid':1004},\n",
    "    {'fname': 'Big', 'lname': 'Jones', 'uid':1003},\n",
    "    {'fname': 'Big', 'lname': 'Jones', 'uid':1002},\n",
    "]\n",
    "\n",
    "# sort by the desired field first. If you do nor sort, groupby will not group correctly\n",
    "# as it only clusters adjacent equal values\n",
    "rows.sort(key=itemgetter('uid'))\n",
    "# same as: rows_by_fname = sorted(rows, key=itemgetter('uid'))\n",
    "\n",
    "# iterate in grops\n",
    "for uid, items in groupby(rows, key=itemgetter('uid')):\n",
    "    print(uid)\n",
    "    for i in items:\n",
    "        print('    ', i)\n"
   ]
  },
  {
   "cell_type": "code",
   "execution_count": 91,
   "metadata": {},
   "outputs": [
    {
     "data": {
      "text/plain": [
       "<itertools.groupby at 0x7f984620cbf0>"
      ]
     },
     "execution_count": 91,
     "metadata": {},
     "output_type": "execute_result"
    }
   ],
   "source": [
    "groupby(rows, key=itemgetter('uid'))"
   ]
  },
  {
   "cell_type": "code",
   "execution_count": 97,
   "metadata": {},
   "outputs": [
    {
     "name": "stdout",
     "output_type": "stream",
     "text": [
      "{'fname': 'Big', 'lname': 'Jones', 'uid': 1004}\n",
      "{'fname': 'Big', 'lname': 'Jones', 'uid': 1004}\n"
     ]
    }
   ],
   "source": [
    "# if you want to group the data together by a large data structure that allows\n",
    "# random access. them:\n",
    "from collections import defaultdict\n",
    "\n",
    "rows_by_uid = defaultdict(list)\n",
    "for row in rows:\n",
    "    rows_by_uid[row['uid']].append(row)\n",
    "    \n",
    "for r in rows_by_uid[1004]:\n",
    "    print(r)"
   ]
  },
  {
   "cell_type": "markdown",
   "metadata": {},
   "source": [
    "## 1.16. Filtering sequence elements"
   ]
  },
  {
   "cell_type": "markdown",
   "metadata": {},
   "source": [
    "You have data inside a sequence, and need to extract values or reduce the sequence using some criteria. List comprehensions are usually the best way."
   ]
  },
  {
   "cell_type": "code",
   "execution_count": 114,
   "metadata": {},
   "outputs": [
    {
     "data": {
      "text/plain": [
       "[1, 4, 10, 2, 3]"
      ]
     },
     "execution_count": 114,
     "metadata": {},
     "output_type": "execute_result"
    }
   ],
   "source": [
    "mylist = [1, 4, -5, 10, -7, 2, 3, -1]\n",
    "[n for n in mylist if n > 0]"
   ]
  },
  {
   "cell_type": "code",
   "execution_count": 104,
   "metadata": {},
   "outputs": [
    {
     "name": "stdout",
     "output_type": "stream",
     "text": [
      "1\n",
      "4\n",
      "10\n",
      "2\n",
      "3\n"
     ]
    }
   ],
   "source": [
    "# The output size might be a concern, to avoid that, you can use generators\n",
    "pos = (n for n in mylist if n > 0)\n",
    "pos\n",
    "\n",
    "# to print\n",
    "for x in pos:\n",
    "    print(x)"
   ]
  },
  {
   "cell_type": "code",
   "execution_count": 110,
   "metadata": {},
   "outputs": [
    {
     "name": "stdout",
     "output_type": "stream",
     "text": [
      "['1', '4', '-5', '10', '-7', '2', '3', -1]\n"
     ]
    },
    {
     "data": {
      "text/plain": [
       "list"
      ]
     },
     "execution_count": 110,
     "metadata": {},
     "output_type": "execute_result"
    }
   ],
   "source": [
    "# if there are more complicated filters like exception handling\n",
    "# for this, put the filtering code in its own function\n",
    "values = ['1', '4', '-5', '10', '-', '-7', '2', '3', -1, 'N/A']\n",
    "\n",
    "def is_int(val):\n",
    "    try:\n",
    "        x = int(val)\n",
    "        return True\n",
    "    except ValueError:\n",
    "        return False\n",
    "    \n",
    "ivals = list(filter(is_int, values))\n",
    "print(ivals)\n",
    "type(ivals)"
   ]
  },
  {
   "cell_type": "markdown",
   "metadata": {},
   "source": [
    "filter creates an iterator, so use list to provide a list of results (iterable)"
   ]
  },
  {
   "cell_type": "code",
   "execution_count": 111,
   "metadata": {},
   "outputs": [
    {
     "data": {
      "text/plain": [
       "[1.0, 2.0, 3.1622776601683795, 1.4142135623730951, 1.7320508075688772]"
      ]
     },
     "execution_count": 111,
     "metadata": {},
     "output_type": "execute_result"
    }
   ],
   "source": [
    "import math\n",
    "[ math.sqrt(n) for n in mylist if n > 0]"
   ]
  },
  {
   "cell_type": "code",
   "execution_count": 112,
   "metadata": {},
   "outputs": [
    {
     "data": {
      "text/plain": [
       "[1, 4, 0, 10, 0, 2, 3, 0]"
      ]
     },
     "execution_count": 112,
     "metadata": {},
     "output_type": "execute_result"
    }
   ],
   "source": [
    "# to add firther criteria\n",
    "clipp_neg = [n if n>0 else 0 for n in mylist]\n",
    "clipp_neg"
   ]
  },
  {
   "cell_type": "code",
   "execution_count": 116,
   "metadata": {},
   "outputs": [
    {
     "name": "stdout",
     "output_type": "stream",
     "text": [
      "[False, False, False, True, True]\n"
     ]
    },
    {
     "data": {
      "text/plain": [
       "['further away', 'much further']"
      ]
     },
     "execution_count": 116,
     "metadata": {},
     "output_type": "execute_result"
    }
   ],
   "source": [
    "# you can also compare  boolean list with another one of the same length and\n",
    "# return only the True\n",
    "\n",
    "addresses = ['here', 'there', 'over there', 'further away', 'much further']\n",
    "counts = [0, 4, 3, 5, 6]\n",
    "\n",
    "from itertools import compress\n",
    "\n",
    "more5 = [n>=5 for n in counts]\n",
    "print(more5)\n",
    "# remember to add list, as compress returns an iterable\n",
    "list(compress(addresses, more5))"
   ]
  },
  {
   "cell_type": "markdown",
   "metadata": {},
   "source": [
    "# 1.17. Extracting a subset of a dictionary"
   ]
  },
  {
   "cell_type": "code",
   "execution_count": 119,
   "metadata": {},
   "outputs": [],
   "source": [
    "# dict comprehension\n",
    "prices = {\n",
    "    \n",
    "    'ACME': 45.23,\n",
    "    'APPL': 612.78,\n",
    "    'IBM': 205.65,\n",
    "    'HPQ': 37.5,\n",
    "    'FB': 10.75\n",
    "}\n",
    "\n",
    "# Fastest options\n",
    "p1 = {key:value for key, value in prices.items() if value > 200}\n",
    "\n",
    "tech_names = {'APPL', 'IBM', 'HPQ', 'MSFT'}\n",
    "p2 = {key:value for key, value in prices.items() if key in tech_names}\n",
    "\n",
    "# this is slower\n",
    "p1 = dict((key, value) for key, value in prices.items() if value > 200)\n",
    "\n",
    "p2 = {key:prices[key] for key in prices.keys() if key in tech_names}"
   ]
  },
  {
   "cell_type": "markdown",
   "metadata": {},
   "source": [
    "# 1.18. Mapping names to sequence elements"
   ]
  },
  {
   "cell_type": "code",
   "execution_count": null,
   "metadata": {},
   "outputs": [],
   "source": []
  }
 ],
 "metadata": {
  "kernelspec": {
   "display_name": "Python 3",
   "language": "python",
   "name": "python3"
  },
  "language_info": {
   "codemirror_mode": {
    "name": "ipython",
    "version": 3
   },
   "file_extension": ".py",
   "mimetype": "text/x-python",
   "name": "python",
   "nbconvert_exporter": "python",
   "pygments_lexer": "ipython3",
   "version": "3.7.6"
  }
 },
 "nbformat": 4,
 "nbformat_minor": 4
}
