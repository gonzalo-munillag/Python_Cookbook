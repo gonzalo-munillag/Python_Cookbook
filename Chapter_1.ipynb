{
 "cells": [
  {
   "cell_type": "markdown",
   "metadata": {},
   "source": [
    "# Chapter 1: Data structures and algorithms"
   ]
  },
  {
   "cell_type": "markdown",
   "metadata": {},
   "source": [
    "## 1.1. Unpacking a sequence into separate variables"
   ]
  },
  {
   "cell_type": "markdown",
   "metadata": {},
   "source": [
    "#### You need to unpack a sequence of N elements from an iterable into N variables."
   ]
  },
  {
   "cell_type": "code",
   "execution_count": 1,
   "metadata": {},
   "outputs": [
    {
     "name": "stdout",
     "output_type": "stream",
     "text": [
      "4 5\n"
     ]
    }
   ],
   "source": [
    "# Tupple\n",
    "p = (4, 5)\n",
    "x, y = p\n",
    "print(x, y)"
   ]
  },
  {
   "cell_type": "code",
   "execution_count": 4,
   "metadata": {},
   "outputs": [
    {
     "name": "stdout",
     "output_type": "stream",
     "text": [
      "car 5 90.4 (2021, 8, 13)\n",
      "2021 8 13\n"
     ]
    }
   ],
   "source": [
    "data = ['car', 5, 90.4, (2021,8,13)]\n",
    "name, age, price, date = data\n",
    "print(name, age, price, date)\n",
    "\n",
    "# Or\n",
    "\n",
    "name, age, price, (year, month, day) = data\n",
    "print(year, month, day)"
   ]
  },
  {
   "cell_type": "markdown",
   "metadata": {},
   "source": [
    "#### Unpacking works with any object that is an iterable, which include strings, files, iterators, and generators."
   ]
  },
  {
   "cell_type": "code",
   "execution_count": 7,
   "metadata": {},
   "outputs": [
    {
     "name": "stdout",
     "output_type": "stream",
     "text": [
      "H e l l o\n"
     ]
    }
   ],
   "source": [
    "s = 'Hello'\n",
    "a, b, c, d, e  = s\n",
    "print(a, b, c, d, e)"
   ]
  },
  {
   "cell_type": "markdown",
   "metadata": {},
   "source": [
    "#### You can also use a throaway variable if you want to discard certain values"
   ]
  },
  {
   "cell_type": "code",
   "execution_count": 8,
   "metadata": {},
   "outputs": [
    {
     "name": "stdout",
     "output_type": "stream",
     "text": [
      "5 90.4\n"
     ]
    }
   ],
   "source": [
    "_, age, price, _ = data\n",
    "print(age, price)"
   ]
  },
  {
   "cell_type": "markdown",
   "metadata": {},
   "source": [
    "## 1.2. Unpacking elements from iterables of arbitrary length"
   ]
  },
  {
   "cell_type": "markdown",
   "metadata": {},
   "source": [
    "#### You need to unpack a sequence of >N elements from an iterable into N variables. -> Using star expressions"
   ]
  },
  {
   "cell_type": "code",
   "execution_count": 13,
   "metadata": {},
   "outputs": [],
   "source": [
    "def drop_first_last(grades):\n",
    "    \n",
    "    first, *middle, last = grades\n",
    "    return sum(middle)/len(grades), middle"
   ]
  },
  {
   "cell_type": "code",
   "execution_count": 14,
   "metadata": {},
   "outputs": [
    {
     "data": {
      "text/plain": [
       "(3.625, [2, 7, 5, 9, 1, 5])"
      ]
     },
     "execution_count": 14,
     "metadata": {},
     "output_type": "execute_result"
    }
   ],
   "source": [
    "grades = (8,2,7,5,9,1,5,5)\n",
    "drop_first_last(grades)"
   ]
  },
  {
   "cell_type": "code",
   "execution_count": 15,
   "metadata": {},
   "outputs": [
    {
     "name": "stdout",
     "output_type": "stream",
     "text": [
      "Rick rick@no-reply.com ['798-415-215', '155-255-856']\n"
     ]
    }
   ],
   "source": [
    "record = ('Rick', 'rick@no-reply.com', '798-415-215', '155-255-856')\n",
    "name, email, *phone_numbers = record\n",
    "print(name, email, phone_numbers)"
   ]
  },
  {
   "cell_type": "markdown",
   "metadata": {},
   "source": [
    "The variable with the start method will always be considered a list even if there are no values assigned. Therfore, no need for type checking."
   ]
  },
  {
   "cell_type": "code",
   "execution_count": 29,
   "metadata": {},
   "outputs": [
    {
     "name": "stdout",
     "output_type": "stream",
     "text": [
      "Trailing avg 4.714285714285714 vs. current 8\n",
      "[3, 5, 6, 3, 7, 3, 6]\n",
      "8\n"
     ]
    }
   ],
   "source": [
    "# You can also do this\n",
    "sales_records = (3, 5, 6, 3, 7, 3, 6, 8)\n",
    "*trailing_records, current_record = sales_records\n",
    "trailing_avg = sum(trailing_records)/len(trailing_records)\n",
    "print(f'Trailing avg {trailing_avg} vs. current {current_record}')\n",
    "print(trailing_records)\n",
    "print(current_record)"
   ]
  },
  {
   "cell_type": "markdown",
   "metadata": {},
   "source": [
    "#### Unpacking iterables with the star expression is useful when the length of the iterable is unknown and there is a pattern we can exploit"
   ]
  },
  {
   "cell_type": "code",
   "execution_count": 57,
   "metadata": {},
   "outputs": [
    {
     "name": "stdout",
     "output_type": "stream",
     "text": [
      "foo 1 2\n",
      "bar hello\n",
      "foo 3 4\n"
     ]
    }
   ],
   "source": [
    "records = [\n",
    "    ('foo', 1, 2),\n",
    "    ('bar', 'hello'),\n",
    "    ('foo', 3, 4)\n",
    "]\n",
    "\n",
    "def do_foo(x, y):\n",
    "    \n",
    "    print('foo', x, y)\n",
    "    \n",
    "def do_bar(s):\n",
    "    \n",
    "    print('bar', s)\n",
    "    \n",
    "for tag, *args in records:\n",
    "    \n",
    "    if tag == 'foo':\n",
    "    \n",
    "        do_foo(*args)\n",
    "    \n",
    "    elif tag == 'bar':\n",
    "    \n",
    "        do_bar(*args)"
   ]
  },
  {
   "cell_type": "code",
   "execution_count": 60,
   "metadata": {},
   "outputs": [
    {
     "name": "stdout",
     "output_type": "stream",
     "text": [
      "[3, 5, 6, 3, 7, 3, 6]\n",
      "<class 'list'>\n",
      "3 5 6 3 7 3 6\n"
     ]
    }
   ],
   "source": [
    "# If you do not use * before the list, then you get a list object\n",
    "print(trailing_records)\n",
    "print(type(trailing_records))\n",
    "# if you use the *, then you get all the values at once. I tried to save them liek this a, b, c, d, e, f, g = *trailing_records\n",
    "# But it yields an error. The book does not talk about why it passess them into the functions using *args in the example above\n",
    "# intuitively that is because otherwise you are passing a list, which is 1 and not the 2 objects the function is expecting.\n",
    "print(*trailing_records)"
   ]
  },
  {
   "cell_type": "code",
   "execution_count": 62,
   "metadata": {},
   "outputs": [
    {
     "name": "stdout",
     "output_type": "stream",
     "text": [
      "hello\n",
      "important\n",
      "more_important\n"
     ]
    }
   ],
   "source": [
    "# they are also useful to use with splitting strings\n",
    "line = 'hello:bla:234:blabla:2899:blablabla:important:more_important'\n",
    "word, *fields, before_last, last = line.split(':')\n",
    "print(word)\n",
    "print(before_last)\n",
    "print(last)"
   ]
  },
  {
   "cell_type": "code",
   "execution_count": 63,
   "metadata": {},
   "outputs": [
    {
     "name": "stdout",
     "output_type": "stream",
     "text": [
      "ACME\n",
      "2021\n"
     ]
    }
   ],
   "source": [
    "record = ('ACME', 50, 233.66, (13,8,2021))\n",
    "name, *_, (*_, year) = record\n",
    "print(name)\n",
    "print(year)"
   ]
  },
  {
   "cell_type": "code",
   "execution_count": 66,
   "metadata": {},
   "outputs": [
    {
     "name": "stdout",
     "output_type": "stream",
     "text": [
      "1\n",
      "[2, 57, 58, 4]\n"
     ]
    }
   ],
   "source": [
    "items = [1,2,57,58,4]\n",
    "head, *tail = items\n",
    "print(head)\n",
    "print(tail)"
   ]
  },
  {
   "cell_type": "code",
   "execution_count": 71,
   "metadata": {},
   "outputs": [
    {
     "name": "stdout",
     "output_type": "stream",
     "text": [
      "[1, 2, 57, 58, 4]\n",
      "Pass 1: head = 1, tail = [2, 57, 58, 4]\n",
      "Pass 1: head = 2, tail = [57, 58, 4]\n",
      "Pass 1: head = 57, tail = [58, 4]\n",
      "Pass 1: head = 58, tail = [4]\n",
      "Pass 1: head = 4, tail = []\n"
     ]
    },
    {
     "data": {
      "text/plain": [
       "122"
      ]
     },
     "execution_count": 71,
     "metadata": {},
     "output_type": "execute_result"
    }
   ],
   "source": [
    "def summation(items):\n",
    "    \n",
    "    head, *tail = items\n",
    "    print(f'Pass 1: head = {head}, tail = {tail}')\n",
    "    \n",
    "    return head + summation(tail) if tail else head\n",
    "\n",
    "print(items)\n",
    "summation(items)\n",
    "    "
   ]
  },
  {
   "cell_type": "code",
   "execution_count": 80,
   "metadata": {},
   "outputs": [
    {
     "name": "stdout",
     "output_type": "stream",
     "text": [
      "over\n"
     ]
    }
   ],
   "source": [
    "head, second, third, forth, fifth, *tail = items\n",
    "\n",
    "if tail:\n",
    "    \n",
    "    print(tail)\n",
    "else:\n",
    "    \n",
    "    print('over')"
   ]
  },
  {
   "cell_type": "markdown",
   "metadata": {},
   "source": [
    "#### Recursion is not srong in Python, because of its inherent limit."
   ]
  }
 ],
 "metadata": {
  "kernelspec": {
   "display_name": "Python 3",
   "language": "python",
   "name": "python3"
  },
  "language_info": {
   "codemirror_mode": {
    "name": "ipython",
    "version": 3
   },
   "file_extension": ".py",
   "mimetype": "text/x-python",
   "name": "python",
   "nbconvert_exporter": "python",
   "pygments_lexer": "ipython3",
   "version": "3.7.6"
  }
 },
 "nbformat": 4,
 "nbformat_minor": 4
}
